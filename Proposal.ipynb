{
 "cells": [
  {
   "cell_type": "markdown",
   "metadata": {},
   "source": [
    "# Fast Caption Generation on a GPU\n",
    "#### by Anisha Padwekar and Toshitha Jagadeesh"
   ]
  },
  {
   "cell_type": "markdown",
   "metadata": {},
   "source": [
    "### Summary\n",
    "\n",
    "We are going to optimize a caption generation algorithm for fast performance and convergence on a GPU. This breaks down into performing parallelization optimizations on the CNN and RNN steps of the caption generation algorithm.\n"
   ]
  },
  {
   "cell_type": "markdown",
   "metadata": {},
   "source": [
    "### Background\n",
    "\n",
    "Caption generation is an important tool for image retrieval as many forms of retrieval rely on natural language representations of data. As the number of images on the internet continues to increase (many without any form of caption or tag), it will become increasingly important to generate these captions in a fast manner. Fast implementations will also allow more detailed captions and have applications in assisting the visually impaired.\n",
    "\n",
    "The general algorithm we will follow is that proposed in a 2015 University of Toronto/Montreal [paper](http://kelvinxu.github.io/projects/capgen.html).\n",
    "\n",
    "The major steps (2 and 3 above) where we will derive our parallel speedup are the convolutional neural network and the recurrent neural network. We can use the fact that nodes within each layer of a neural network are independent as the basis of our optimization.\n",
    "\n",
    "<img src=\"http://kelvinxu.github.io/projects/diags/model_diag.png">\n"
   ]
  },
  {
   "cell_type": "markdown",
   "metadata": {},
   "source": [
    "### Challenge\n",
    "\n",
    "Some challenges we expect to face are understanding Halide and the caption generation algorithm. We therefore expect to face some issues in porting the original algorithm to C++. Although nodes within a layer are independent in neural networks (providing much parallelism), RNN’s have a component where each output depends on the previous time step. This is inherently serial and will limit the potential parallelism.\n"
   ]
  },
  {
   "cell_type": "markdown",
   "metadata": {},
   "source": [
    "### Resources\n",
    "\n",
    "We will be starting the caption generation part of the project from scratch. However, we will be using techniques from past 418 projects to inspire the parallelization of the convolution feature extraction and RNN implementation in Halide/C++. As of now, we have a paper and Theano code to use as reference found [here](http://kelvinxu.github.io/projects/capgen.html). We plan to use this code in order to help shape our algorithm to make it as robust as possible.\n"
   ]
  },
  {
   "cell_type": "markdown",
   "metadata": {},
   "source": [
    "### Goals and Deliverables\n",
    "\n",
    "*Plan to Achieve: *\n",
    "\n",
    "We plan to finish our serial and parallelized caption generation programs by May 10 (final deadline). We also expect to have improved performance from our serial C++ algorithm when compared with the parallelized version. We will also compare the efficiency of our completed parallelized Halide caption generation with that of the Theano algorithm outlined.\n",
    "\n",
    "*Hope to Achieve: *\n",
    "\n",
    "If we have extra time, we hope to outperform the Theano algorithm if our original parallelized caption generation does not do so. However, if our original algorithm already outperforms Theano, we plan to increase our speedup by optimizing our code even more. \n",
    "\n"
   ]
  },
  {
   "cell_type": "markdown",
   "metadata": {},
   "source": [
    "### Platform Choice\n",
    "\n",
    "We will use C++ and Halide on the latedays cluster. Our choice of Halide stems from the fact that Halide is optimized for image processing and will allow us to quickly optimize scheduling. We chose the latedays cluster because GPUs are a natural choice for image related applications."
   ]
  },
  {
   "cell_type": "markdown",
   "metadata": {},
   "source": [
    "### Schedule\n",
    "\n",
    "4/17 - 4/23: Implement algorithm serially & understand Halide\n",
    "\n",
    "4/24 - 4/30: Implement a parallelized version\n",
    "\n",
    "5/1 - 5/7: Finish parallelized version and compare to Theano \n",
    "\n",
    "5/7 - 5/10: Finish all coding/testing and create final presentation"
   ]
  },
  {
   "cell_type": "code",
   "execution_count": null,
   "metadata": {
    "collapsed": true
   },
   "outputs": [],
   "source": []
  }
 ],
 "metadata": {
  "kernelspec": {
   "display_name": "Python 2",
   "language": "python",
   "name": "python2"
  },
  "language_info": {
   "codemirror_mode": {
    "name": "ipython",
    "version": 2
   },
   "file_extension": ".py",
   "mimetype": "text/x-python",
   "name": "python",
   "nbconvert_exporter": "python",
   "pygments_lexer": "ipython2",
   "version": "2.7.10"
  }
 },
 "nbformat": 4,
 "nbformat_minor": 1
}
